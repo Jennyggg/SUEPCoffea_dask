{
 "cells": [
  {
   "cell_type": "code",
   "execution_count": 12,
   "id": "d08cddaf-6a0f-4879-871b-50c5171228a0",
   "metadata": {},
   "outputs": [],
   "source": [
    "import os, sys, glob, re\n",
    "import coffea.util\n",
    "from plot_utils import *"
   ]
  },
  {
   "cell_type": "code",
   "execution_count": 13,
   "id": "7323779a-2e17-46d1-a8d8-c43dd240ca52",
   "metadata": {},
   "outputs": [],
   "source": [
    "dataDir = '/data/submit/cms/store/user/lavezzo/SUEP/cutflows5/'\n",
    "subDirs = os.listdir(dataDir)"
   ]
  },
  {
   "cell_type": "code",
   "execution_count": 14,
   "id": "abf1e928-dc22-43d2-9560-1963e2b4ac5a",
   "metadata": {},
   "outputs": [],
   "source": [
    "counts = {}\n",
    "for subDir in subDirs:\n",
    "    files = os.listdir(dataDir + subDir)\n",
    "    \n",
    "    for i, f in enumerate(files):\n",
    "        if i == 0: \n",
    "            cum = coffea.util.load(os.path.join(dataDir, subDir, f))\n",
    "        else:\n",
    "            temp = coffea.util.load(os.path.join(dataDir, subDir, f))\n",
    "            for key in temp:\n",
    "                cum[key] += temp[key]\n",
    "                \n",
    "    counts[subDir.split('+')[0]] = cum"
   ]
  },
  {
   "cell_type": "code",
   "execution_count": 15,
   "id": "b5dbd602-c394-49ee-a376-899ec392ee14",
   "metadata": {},
   "outputs": [
    {
     "data": {
      "text/plain": [
       "dict_keys(['QCD_HT500to700_TuneCP5_PSWeights_13TeV-madgraph-pythia8', 'SUEP-m1000-generic', 'SUEP-m400-generic', 'SUEP-m125-generic-htcut', 'QCD_HT100to200_TuneCP5_PSWeights_13TeV-madgraph-pythia8', 'SUEP-m750-generic', 'QCD_HT50to100_TuneCP5_PSWeights_13TeV-madgraph-pythia8', 'QCD_HT1500to2000_TuneCP5_PSWeights_13TeV-madgraph-pythia8', 'SUEP-m125-generic', 'QCD_HT300to500_TuneCP5_PSWeights_13TeV-madgraph-pythia8', 'QCD_HT2000toInf_TuneCP5_PSWeights_13TeV-madgraph-pythia8', 'QCD_HT1000to1500_TuneCP5_PSWeights_13TeV-madgraph-pythia8', 'QCD_HT200to300_TuneCP5_PSWeights_13TeV-madgraph-pythia8'])"
      ]
     },
     "execution_count": 15,
     "metadata": {},
     "output_type": "execute_result"
    }
   ],
   "source": [
    "counts.keys()"
   ]
  },
  {
   "cell_type": "code",
   "execution_count": 16,
   "id": "8ff88275-9fce-428d-8d14-16d71f193265",
   "metadata": {},
   "outputs": [],
   "source": [
    "counts_generic = {}\n",
    "for k, i in counts.items(): \n",
    "    if 'generic' not in k: continue\n",
    "    #if 'htcut' in k: continue\n",
    "    \n",
    "    counts_generic[k] = i\n",
    "    \n",
    "counts_qcd = None\n",
    "for k, i in counts.items(): \n",
    "    if 'QCD_HT' not in k: continue\n",
    "    \n",
    "    xsection = getXSection(k+'+RunIISummer20UL18MiniAODv2-106X_upgrade2018_realistic_v16_L1v1-v1+MINIAODSIM', '2018')\n",
    "\n",
    "    if counts_qcd is None: \n",
    "        counts_qcd = {}\n",
    "        for key in counts[k].keys():\n",
    "            val = counts[k][key][list(counts[k][key].keys())[0]]\n",
    "            sumw = counts[k]['sumw'][list(counts[k][key].keys())[0]]\n",
    "            scale = lumis['2018'] * xsection / sumw\n",
    "            counts_qcd[key] = val*scale\n",
    "\n",
    "    else:\n",
    "        for key in counts[k].keys():\n",
    "            if len(list(counts[k][key])) > 0:\n",
    "                val = counts[k][key][list(counts[k][key].keys())[0]]\n",
    "                sumw = counts[k]['sumw'][list(counts[k][key].keys())[0]]\n",
    "                scale = lumis['2018'] * xsection / sumw\n",
    "                counts_qcd[key] += val * scale"
   ]
  },
  {
   "cell_type": "code",
   "execution_count": 17,
   "id": "c0238375-eda5-42f9-ab0b-b4f202481f37",
   "metadata": {},
   "outputs": [
    {
     "data": {
      "text/plain": [
       "dict_keys(['SUEP-m1000-generic', 'SUEP-m400-generic', 'SUEP-m125-generic-htcut', 'SUEP-m750-generic', 'SUEP-m125-generic'])"
      ]
     },
     "execution_count": 17,
     "metadata": {},
     "output_type": "execute_result"
    }
   ],
   "source": [
    "counts_generic.keys()"
   ]
  },
  {
   "cell_type": "code",
   "execution_count": 18,
   "id": "457da2e6-b04a-4b7a-ad4d-2c968c480787",
   "metadata": {},
   "outputs": [],
   "source": [
    "columnLabels = ['Selection', 'QCD', r'$M_{S}$ = 125 GeV', r'$M_{S}$ = 400 GeV', \n",
    "           r'$M_{S}$ = 750 GeV', r'$M_{S}$ = 1000 GeV']\n",
    "selectionLabels = ['Total', 'Trigger (PFHT1050)', \n",
    "              r'$H_T$ > 1200 GeV', 'Two ak15 Jets',\n",
    "             '# Constituents > 80', r'$Sph_1$ > 0.5']\n",
    "\n",
    "selectionKeys = list(counts_generic[list(counts_generic.keys())[0]].keys())[1:]\n",
    "columnKeys = ['QCD', 'SUEP-m125-generic-htcut', 'SUEP-m400-generic', \n",
    "              'SUEP-m750-generic', 'SUEP-m1000-generic'] "
   ]
  },
  {
   "cell_type": "code",
   "execution_count": 8,
   "id": "b3b9ea09-447e-449f-96c9-571aff2cd7bf",
   "metadata": {},
   "outputs": [],
   "source": [
    "import hist.intervals as intervals\n",
    "import numpy as np"
   ]
  },
  {
   "cell_type": "code",
   "execution_count": 19,
   "id": "dee73056-1609-4938-8953-b1f6f9c3fb24",
   "metadata": {},
   "outputs": [],
   "source": [
    "table = []\n",
    "table.append(columnLabels)\n",
    "\n",
    "for label, selection in zip(selectionLabels, selectionKeys):\n",
    "    columns = []\n",
    "    columns.append(label)\n",
    "    for k in columnKeys: \n",
    "        if k == 'QCD':\n",
    "            \n",
    "            val = 0\n",
    "            differences = [[],[]]\n",
    "            for sample, i in counts.items(): \n",
    "                if 'QCD_HT' not in sample: continue\n",
    "                if len(list(counts[sample][selection])) == 0: continue\n",
    "                    \n",
    "                xsection = getXSection(sample+'+RunIISummer20UL18MiniAODv2-106X_upgrade2018_realistic_v16_L1v1-v1+MINIAODSIM', '2018')\n",
    "                \n",
    "                bin_val = counts[sample][selection][list(counts[sample][selection].keys())[0]]\n",
    "                \n",
    "                sumw = counts[sample]['sumw'][list(counts[sample][selection].keys())[0]]\n",
    "                scale = lumis['2018'] * xsection / sumw\n",
    "\n",
    "                bin_val *= scale\n",
    "\n",
    "                val += bin_val\n",
    "                \n",
    "            interval = [x[0] for x in intervals.poisson_interval(np.array([val]), np.array([val]))]\n",
    "            differences = [round(x - val) for x in interval]\n",
    "            val = round(val)\n",
    "            val = round(val)\n",
    "                \n",
    "        else:\n",
    "            \n",
    "            mass = k.split(\"SUEP-m\")[1]\n",
    "            mass = mass.split('-')[0]\n",
    "            mass = str(mass)\n",
    "            xsec = getXSection(mass, 2018, SUEP=True)\n",
    "            \n",
    "            if 'htcut' in k: xsec *= 0.003\n",
    "            \n",
    "            counts_sample = counts_generic[k][selection]\n",
    "            sumw_sample = counts_generic[k]['sumw']\n",
    "            val = round(counts_sample[list(counts_sample.keys())[0]])\n",
    "            sumw = round(sumw_sample[list(sumw_sample.keys())[0]])\n",
    "            \n",
    "            scale = (lumis['2018'] * xsec / sumw)\n",
    "            \n",
    "            interval = [x[0]*scale for x in intervals.poisson_interval(np.array([val]))]\n",
    "            val *= scale\n",
    "                        \n",
    "            differences = [round(x - val) for x in interval]\n",
    "            val = round(val)\n",
    "                        \n",
    "        columns.append('$'+str(val)+'^{+'+str(differences[1])+'}_{'+str(differences[0])+'}$')\n",
    "    table.append(columns)"
   ]
  },
  {
   "cell_type": "code",
   "execution_count": 20,
   "id": "aa8e3d55-ec49-46f3-9a88-8d75959478dd",
   "metadata": {},
   "outputs": [
    {
     "data": {
      "text/plain": [
       "[['Selection',\n",
       "  'QCD',\n",
       "  '$M_{S}$ = 125 GeV',\n",
       "  '$M_{S}$ = 400 GeV',\n",
       "  '$M_{S}$ = 750 GeV',\n",
       "  '$M_{S}$ = 1000 GeV'],\n",
       " ['Total',\n",
       "  '$12980865195580^{+3602898}_{-3602897}$',\n",
       "  '$6368^{+53}_{-53}$',\n",
       "  '$359936^{+3654}_{-3617}$',\n",
       "  '$30506^{+308}_{-305}$',\n",
       "  '$10364^{+105}_{-104}$'],\n",
       " ['Trigger (PFHT1050)',\n",
       "  '$47165295^{+6869}_{-6868}$',\n",
       "  '$4723^{+46}_{-46}$',\n",
       "  '$4036^{+421}_{-382}$',\n",
       "  '$769^{+52}_{-48}$',\n",
       "  '$367^{+21}_{-19}$'],\n",
       " ['$H_T$ > 1200 GeV',\n",
       "  '$26703851^{+5169}_{-5168}$',\n",
       "  '$3130^{+38}_{-37}$',\n",
       "  '$3272^{+383}_{-344}$',\n",
       "  '$628^{+47}_{-44}$',\n",
       "  '$312^{+19}_{-18}$'],\n",
       " ['Two ak15 Jets',\n",
       "  '$24238972^{+4924}_{-4923}$',\n",
       "  '$2986^{+37}_{-36}$',\n",
       "  '$3199^{+379}_{-340}$',\n",
       "  '$607^{+46}_{-43}$',\n",
       "  '$286^{+18}_{-17}$'],\n",
       " ['# Constituents > 80',\n",
       "  '$99914^{+317}_{-316}$',\n",
       "  '$179^{+9}_{-9}$',\n",
       "  '$3090^{+373}_{-335}$',\n",
       "  '$604^{+46}_{-43}$',\n",
       "  '$285^{+18}_{-17}$'],\n",
       " ['$Sph_1$ > 0.5',\n",
       "  '$48689^{+222}_{-221}$',\n",
       "  '$93^{+7}_{-6}$',\n",
       "  '$2872^{+361}_{-322}$',\n",
       "  '$577^{+45}_{-42}$',\n",
       "  '$272^{+18}_{-17}$']]"
      ]
     },
     "execution_count": 20,
     "metadata": {},
     "output_type": "execute_result"
    }
   ],
   "source": [
    "table"
   ]
  },
  {
   "cell_type": "code",
   "execution_count": 21,
   "id": "b8b0fc11-9da5-4f51-8e64-86f51f9a25a5",
   "metadata": {},
   "outputs": [
    {
     "data": {
      "text/plain": [
       "'\\\\begin{tabular}{llllll}\\n\\\\hline\\n Selection           & QCD                                    & $M_{S}$ = 125 GeV  & $M_{S}$ = 400 GeV        & $M_{S}$ = 750 GeV     & $M_{S}$ = 1000 GeV    \\\\\\\\\\n Total               & $12980865195580^{+3602898}_{-3602897}$ & $6368^{+53}_{-53}$ & $359936^{+3654}_{-3617}$ & $30506^{+308}_{-305}$ & $10364^{+105}_{-104}$ \\\\\\\\\\n Trigger (PFHT1050)  & $47165295^{+6869}_{-6868}$             & $4723^{+46}_{-46}$ & $4036^{+421}_{-382}$     & $769^{+52}_{-48}$     & $367^{+21}_{-19}$     \\\\\\\\\\n $H_T$ \\\\ensuremath{>} 1200 GeV    & $26703851^{+5169}_{-5168}$             & $3130^{+38}_{-37}$ & $3272^{+383}_{-344}$     & $628^{+47}_{-44}$     & $312^{+19}_{-18}$     \\\\\\\\\\n Two ak15 Jets       & $24238972^{+4924}_{-4923}$             & $2986^{+37}_{-36}$ & $3199^{+379}_{-340}$     & $607^{+46}_{-43}$     & $286^{+18}_{-17}$     \\\\\\\\\\n \\\\# Constituents \\\\ensuremath{>} 80 & $99914^{+317}_{-316}$                  & $179^{+9}_{-9}$    & $3090^{+373}_{-335}$     & $604^{+46}_{-43}$     & $285^{+18}_{-17}$     \\\\\\\\\\n $Sph_1$ \\\\ensuremath{>} 0.5       & $48689^{+222}_{-221}$                  & $93^{+7}_{-6}$     & $2872^{+361}_{-322}$     & $577^{+45}_{-42}$     & $272^{+18}_{-17}$     \\\\\\\\\\n\\\\hline\\n\\\\end{tabular}'"
      ]
     },
     "execution_count": 21,
     "metadata": {},
     "output_type": "execute_result"
    }
   ],
   "source": [
    "import tabulate\n",
    "t = tabulate.tabulate(table,tablefmt ='latex')\n",
    "\n",
    "def convert2LatexString(s):\n",
    "    r = r'(\\^\\{\\})'; s = re.sub(r, \"^\", s)\n",
    "    s = re.sub(r'\\\\([\\$\\_\\{\\}\\^])', r'\\1', s)\n",
    "    s = re.sub(r'(\\\\textbackslash{})', r'\\\\', s)\n",
    "    return s\n",
    "\n",
    "t = convert2LatexString(t)\n",
    "with open('table.txt', 'w') as f:\n",
    "    f.write(t)\n",
    "t"
   ]
  },
  {
   "cell_type": "code",
   "execution_count": null,
   "id": "402d0f9c-752a-4741-90b5-5fd170d7debc",
   "metadata": {},
   "outputs": [],
   "source": []
  },
  {
   "cell_type": "code",
   "execution_count": null,
   "id": "377d895f-5a8b-4461-9247-faf0029d8775",
   "metadata": {},
   "outputs": [],
   "source": []
  }
 ],
 "metadata": {
  "kernelspec": {
   "display_name": "suep",
   "language": "python",
   "name": "suep"
  },
  "language_info": {
   "codemirror_mode": {
    "name": "ipython",
    "version": 3
   },
   "file_extension": ".py",
   "mimetype": "text/x-python",
   "name": "python",
   "nbconvert_exporter": "python",
   "pygments_lexer": "ipython3",
   "version": "3.9.10"
  }
 },
 "nbformat": 4,
 "nbformat_minor": 5
}
